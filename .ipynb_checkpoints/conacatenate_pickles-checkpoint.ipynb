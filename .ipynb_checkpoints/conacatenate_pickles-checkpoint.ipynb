{
 "metadata": {
  "name": "",
  "signature": "sha256:23c23be46abec86d5f388bcf52829b34bb4cdd02d299057d93f866b22bfea379"
 },
 "nbformat": 3,
 "nbformat_minor": 0,
 "worksheets": [
  {
   "cells": [
    {
     "cell_type": "markdown",
     "metadata": {},
     "source": [
      "# Concatenate all pickles"
     ]
    },
    {
     "cell_type": "code",
     "collapsed": false,
     "input": [
      "import pickle as pkl\n",
      "def save_data(fname, data):\n",
      "    output = open(fname, 'wb')\n",
      "    pkl.dump(data, output)\n",
      "    output.close()  \n",
      "    \n",
      "def load_data(fname):\n",
      "    inp = open(fname, 'rb')\n",
      "    d = pkl.load(inp)\n",
      "    inp.close()\n",
      "    return d"
     ],
     "language": "python",
     "metadata": {},
     "outputs": [],
     "prompt_number": 9
    },
    {
     "cell_type": "code",
     "collapsed": false,
     "input": [
      "pkls = ['01', '02', '03', '04', '05', '06', '07', '08', '09', '10', '11', '12', '13', '14']\n",
      "\n",
      "whole_pickle = []\n",
      "for p in pkls:\n",
      "    n = '../texts' + p + '.pkl'\n",
      "    print 'adding pickle ' + n\n",
      "    whole_pickle.extend(load_data(n))\n",
      "print 'Saving result...'\n",
      "save_data('../all_texts.pkl', whole_pickle)"
     ],
     "language": "python",
     "metadata": {},
     "outputs": [
      {
       "output_type": "stream",
       "stream": "stdout",
       "text": [
        "adding pickle ../texts01.pkl\n",
        "adding pickle ../texts02.pkl"
       ]
      },
      {
       "output_type": "stream",
       "stream": "stdout",
       "text": [
        "\n",
        "adding pickle ../texts03.pkl"
       ]
      },
      {
       "output_type": "stream",
       "stream": "stdout",
       "text": [
        "\n",
        "adding pickle ../texts04.pkl"
       ]
      },
      {
       "output_type": "stream",
       "stream": "stdout",
       "text": [
        "\n",
        "adding pickle ../texts05.pkl"
       ]
      },
      {
       "output_type": "stream",
       "stream": "stdout",
       "text": [
        "\n",
        "adding pickle ../texts06.pkl"
       ]
      },
      {
       "output_type": "stream",
       "stream": "stdout",
       "text": [
        "\n",
        "adding pickle ../texts07.pkl"
       ]
      },
      {
       "output_type": "stream",
       "stream": "stdout",
       "text": [
        "\n",
        "adding pickle ../texts08.pkl"
       ]
      }
     ]
    },
    {
     "cell_type": "code",
     "collapsed": false,
     "input": [
      "1+1"
     ],
     "language": "python",
     "metadata": {},
     "outputs": []
    },
    {
     "cell_type": "code",
     "collapsed": false,
     "input": [],
     "language": "python",
     "metadata": {},
     "outputs": []
    }
   ],
   "metadata": {}
  }
 ]
}
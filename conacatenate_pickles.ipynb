{
 "metadata": {
  "name": "",
  "signature": "sha256:d4f502683ad09e78b2de47855ca44ba161ec460de968bfdb110cc209048bedc2"
 },
 "nbformat": 3,
 "nbformat_minor": 0,
 "worksheets": [
  {
   "cells": [
    {
     "cell_type": "markdown",
     "metadata": {},
     "source": [
      "# Concatenate all pickles"
     ]
    },
    {
     "cell_type": "code",
     "collapsed": false,
     "input": [
      "import pickle as pkl\n",
      "def save_data(fname, data):\n",
      "    output = open(fname, 'wb')\n",
      "    pkl.dump(data, output)\n",
      "    output.close()  \n",
      "    \n",
      "    \n",
      "def load_data(fname):\n",
      "    inp = open(fname, 'rb')\n",
      "    d = pkl.load(inp)\n",
      "    inp.close()\n",
      "    return d"
     ],
     "language": "python",
     "metadata": {},
     "outputs": [],
     "prompt_number": 1
    },
    {
     "cell_type": "code",
     "collapsed": false,
     "input": [
      "pkls = ['01', '02', '03', '04', '05', '06', '07', '08', '09', '10', '11', '12', '13', '14']\n",
      "\n",
      "whole_pickle = []\n",
      "for p in pkls:\n",
      "    n = '../texts' + p + '.pkl'\n",
      "    print 'adding pickle ' + n\n",
      "    whole_pickle.extend(load_data(n))\n",
      "print 'Saving result...'\n",
      "save_data('../all_texts.pkl', whole_pickle)"
     ],
     "language": "python",
     "metadata": {},
     "outputs": [
      {
       "output_type": "stream",
       "stream": "stdout",
       "text": [
        "adding pickle ../texts01.pkl\n",
        "adding pickle ../texts02.pkl"
       ]
      }
     ]
    },
    {
     "cell_type": "code",
     "collapsed": false,
     "input": [
      "load_data('../texts09.pkl')"
     ],
     "language": "python",
     "metadata": {},
     "outputs": []
    },
    {
     "cell_type": "code",
     "collapsed": false,
     "input": [],
     "language": "python",
     "metadata": {},
     "outputs": []
    }
   ],
   "metadata": {}
  }
 ]
}